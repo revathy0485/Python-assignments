{
 "cells": [
  {
   "cell_type": "markdown",
   "metadata": {},
   "source": []
  },
  {
   "cell_type": "markdown",
   "metadata": {},
   "source": [
    "As discussed in the content part of the chapter. These compound datatypes form a very strong foundation of Python Programming. \n",
    "<br> Thus, it is very important that you give utmost importance and time to this exercise as it will benefit you a lot in future.\n",
    "<br> Lets move on the exercise.\n",
    "<br> **All the best** and most importantly **Have Fun**"
   ]
  },
  {
   "cell_type": "markdown",
   "metadata": {},
   "source": [
    "# Lists"
   ]
  },
  {
   "cell_type": "markdown",
   "metadata": {},
   "source": [
    "**Q1 Create a list with vowels.\n",
    "<br> Name it as 'vowels'\n",
    "<br> Display vowels**"
   ]
  },
  {
   "cell_type": "code",
   "execution_count": 16,
   "metadata": {},
   "outputs": [
    {
     "name": "stdout",
     "output_type": "stream",
     "text": [
      "['a', 'e', 'i', 'o', 'u']\n"
     ]
    }
   ],
   "source": [
    "## START CODE HERE\n",
    "vowels=['a','e','i','o','u']\n",
    "print(vowels)\n",
    "\n",
    "## END CODE HERE"
   ]
  },
  {
   "cell_type": "markdown",
   "metadata": {},
   "source": [
    "<table>\n",
    "  <tr>\n",
    "  <td>**Expected Output:**<td>\n",
    "    <td>['a', 'e', 'i', 'o', 'u']</td>\n",
    "  </tr>\n",
    "</table>\n",
    "    "
   ]
  },
  {
   "cell_type": "markdown",
   "metadata": {},
   "source": [
    "**Q2 Print first element in vowels. \n",
    "<br>Just to be clear first corresponds to 0th element.**"
   ]
  },
  {
   "cell_type": "code",
   "execution_count": 2,
   "metadata": {},
   "outputs": [
    {
     "name": "stdout",
     "output_type": "stream",
     "text": [
      "a\n"
     ]
    }
   ],
   "source": [
    "## START CODE HERE\n",
    "\n",
    "print(vowels[0])\n",
    "## END CODE HERE"
   ]
  },
  {
   "cell_type": "markdown",
   "metadata": {},
   "source": [
    "<table>\n",
    "  <tr>\n",
    "  <td>**Expected Output:**<td>\n",
    "    <td>a</td>\n",
    "  </tr>\n",
    "</table>"
   ]
  },
  {
   "cell_type": "markdown",
   "metadata": {},
   "source": [
    "**Q3 Print last element in vowels.**"
   ]
  },
  {
   "cell_type": "code",
   "execution_count": 3,
   "metadata": {},
   "outputs": [
    {
     "name": "stdout",
     "output_type": "stream",
     "text": [
      "u\n"
     ]
    }
   ],
   "source": [
    "## START CODE HERE\n",
    "print(vowels[-1])\n",
    "\n",
    "## END CODE HERE"
   ]
  },
  {
   "cell_type": "markdown",
   "metadata": {},
   "source": [
    "<table>\n",
    "  <tr>\n",
    "  <td>**Expected Output:**<td>\n",
    "    <td>u</td>\n",
    "  </tr>\n",
    "</table>"
   ]
  },
  {
   "cell_type": "markdown",
   "metadata": {},
   "source": [
    "**Q4 Print all elements in 'vowels' starting from the second element.**"
   ]
  },
  {
   "cell_type": "code",
   "execution_count": 4,
   "metadata": {},
   "outputs": [
    {
     "name": "stdout",
     "output_type": "stream",
     "text": [
      "['e', 'i', 'o', 'u']\n"
     ]
    }
   ],
   "source": [
    "## START CODE HERE\n",
    "print(vowels[1:])\n",
    "\n",
    "## END CODE HERE"
   ]
  },
  {
   "cell_type": "markdown",
   "metadata": {},
   "source": [
    "<table>\n",
    "  <tr>\n",
    "  <td>**Expected Output:**<td>\n",
    "    <td>['e', 'i', 'o', 'u']</td>\n",
    "  </tr>\n",
    "</table>"
   ]
  },
  {
   "cell_type": "markdown",
   "metadata": {},
   "source": [
    "**Q5 Print alternate elements in the list starting from second element.**"
   ]
  },
  {
   "cell_type": "code",
   "execution_count": 9,
   "metadata": {},
   "outputs": [
    {
     "name": "stdout",
     "output_type": "stream",
     "text": [
      "['e', 'o']\n"
     ]
    }
   ],
   "source": [
    "## START CODE HERE\n",
    "print(vowels[1::2])\n",
    "\n",
    "## END CODE HERE"
   ]
  },
  {
   "cell_type": "markdown",
   "metadata": {},
   "source": [
    "<table>\n",
    "  <tr>\n",
    "  <td>**Expected Output:**<td>\n",
    "    <td>['e', 'o']</td>\n",
    "  </tr>\n",
    "</table>"
   ]
  },
  {
   "cell_type": "markdown",
   "metadata": {},
   "source": [
    "**Q6 Print all elements in 'vowels' in reverse order.**"
   ]
  },
  {
   "cell_type": "code",
   "execution_count": 10,
   "metadata": {},
   "outputs": [
    {
     "name": "stdout",
     "output_type": "stream",
     "text": [
      "['u', 'o', 'i', 'e', 'a']\n"
     ]
    }
   ],
   "source": [
    "## START CODE HERE\n",
    "print(vowels[::-1])\n",
    "\n",
    "## END CODE HERE"
   ]
  },
  {
   "cell_type": "markdown",
   "metadata": {},
   "source": [
    "<table>\n",
    "  <tr>\n",
    "  <td>**Expected Output:**<td>\n",
    "    <td>['u', 'o', 'i', 'e', 'a']</td>\n",
    "  </tr>\n",
    "</table>"
   ]
  },
  {
   "cell_type": "markdown",
   "metadata": {},
   "source": [
    "**Q7 Add all capital vowels to 'vowels' and print the result.\n",
    "<br> Don't change vowels.**"
   ]
  },
  {
   "cell_type": "code",
   "execution_count": 30,
   "metadata": {},
   "outputs": [
    {
     "name": "stdout",
     "output_type": "stream",
     "text": [
      "['a', 'e', 'i', 'o', 'u', 'A', 'E', 'I', 'O', 'U']\n"
     ]
    }
   ],
   "source": [
    "## START CODE HERE\n",
    "vowels=['a','e','i','o','u']\n",
    "vowels+=('A','E','I','O','U')\n",
    "print(vowels)\n",
    "\n",
    "## END CODE HERE"
   ]
  },
  {
   "cell_type": "markdown",
   "metadata": {},
   "source": [
    "<table>\n",
    "  <tr>\n",
    "  <td>**Expected Output:**<td>\n",
    "    <td>['a', 'e', 'i', 'o', 'u', 'A','E','I','O','U']</td>\n",
    "  </tr>\n",
    "</table>"
   ]
  },
  {
   "cell_type": "code",
   "execution_count": 36,
   "metadata": {},
   "outputs": [],
   "source": [
    "# Rank, Country name, Number of gold \n",
    "\n",
    "common_wealth_2018 = [[1,\"Australia\",80],[2,\"England\", 45],[3,\"India\" , 26],[5,\"New Zealand\" , 15],[7,\"Wales\" , 10],[8,\"Scotland\" , 9]]"
   ]
  },
  {
   "cell_type": "markdown",
   "metadata": {},
   "source": [
    "**Q8 Append a new entry to common_wealth_2018 [4,\"Canada\",15]\n",
    "<br>Print modified 'common_wealth_2018'**"
   ]
  },
  {
   "cell_type": "code",
   "execution_count": 37,
   "metadata": {},
   "outputs": [
    {
     "name": "stdout",
     "output_type": "stream",
     "text": [
      "[[1, 'Australia', 80], [2, 'England', 45], [3, 'India', 26], [5, 'New Zealand', 15], [7, 'Wales', 10], [8, 'Scotland', 9], [4, 'Canada', 15]]\n"
     ]
    }
   ],
   "source": [
    "## START CODE HERE\n",
    "common_wealth_2018.append( [4,\"Canada\",15] )\n",
    "print(common_wealth_2018)\n",
    "\n",
    "## END CODE HERE"
   ]
  },
  {
   "cell_type": "markdown",
   "metadata": {},
   "source": [
    "<table>\n",
    "  <tr>\n",
    "  <td>**Expected Output:**<td>\n",
    "    <td>[[1, 'Australia', 80],\n",
    " [2, 'England', 45],\n",
    " [3, 'India', 26],\n",
    " [5, 'New Zealand', 15],\n",
    " [7, 'Wales', 10],\n",
    " [8, 'Scotland', 9],\n",
    " [4, 'Canada', 15]]</td>\n",
    "  </tr>\n",
    "</table>"
   ]
  },
  {
   "cell_type": "markdown",
   "metadata": {},
   "source": [
    "**Q9 Pop the entry at index 6 from common_wealth_2018.\n",
    "<br> Print the popped item.\n",
    "<br> Print the modified 'common_wealth_2018'**"
   ]
  },
  {
   "cell_type": "code",
   "execution_count": 39,
   "metadata": {},
   "outputs": [
    {
     "name": "stdout",
     "output_type": "stream",
     "text": [
      "[[1, 'Australia', 80], [2, 'England', 45], [3, 'India', 26], [5, 'New Zealand', 15], [7, 'Wales', 10], [4, 'Canada', 15]]\n"
     ]
    }
   ],
   "source": [
    "## START CODE HERE\n",
    "\n",
    "common_wealth_2018.pop(5)\n",
    "print(common_wealth_2018)\n",
    "\n",
    "## END CODE HERE"
   ]
  },
  {
   "cell_type": "markdown",
   "metadata": {},
   "source": [
    "<table>\n",
    "  <tr>\n",
    "  <td>**Expected Output:**<td>\n",
    "    <td style=\"text-align:left;\">\n",
    "[4, 'Canada', 15]\n",
    "<br>\n",
    "[4, 'Canada', 15]\n",
    "[[1, 'Australia', 80], [2, 'England', 45], [3, 'India', 26], [5, 'New Zealand', 15], [7, 'Wales', 10], [8, 'Scotland', 9]]</td>\n",
    "  </tr>\n",
    "</table>"
   ]
  },
  {
   "cell_type": "markdown",
   "metadata": {},
   "source": [
    "**Q10 Reverse common_wealth_2018 using appropriate list method\n",
    "<br> Print the new 'common_wealth_2018'**"
   ]
  },
  {
   "cell_type": "code",
   "execution_count": 41,
   "metadata": {},
   "outputs": [
    {
     "name": "stdout",
     "output_type": "stream",
     "text": [
      "None\n"
     ]
    }
   ],
   "source": [
    "## START CODE HERE\n",
    "\n",
    "print(common_wealth_2018.reverse())\n",
    "## END CODE HERE"
   ]
  },
  {
   "cell_type": "markdown",
   "metadata": {},
   "source": [
    "<table>\n",
    "  <tr>\n",
    "  <td>**Expected Output:**<td>\n",
    "    <td>[[8, 'Scotland', 9], [7, 'Wales', 10], [5, 'New Zealand', 15], [3, 'India', 26], [2, 'England', 45], [1, 'Australia', 80]]\n",
    "</td>\n",
    "  </tr>\n",
    "</table>"
   ]
  },
  {
   "cell_type": "markdown",
   "metadata": {},
   "source": [
    "**Q11 Sort common_wealth_2018 using appropriate list method\n",
    "<br> Print the new 'common_wealth_2018'**"
   ]
  },
  {
   "cell_type": "code",
   "execution_count": 5,
   "metadata": {
    "collapsed": true
   },
   "outputs": [],
   "source": [
    "## START CODE HERE\n",
    "\n",
    "\n",
    "## END CODE HERE"
   ]
  },
  {
   "cell_type": "markdown",
   "metadata": {},
   "source": [
    "<table>\n",
    "  <tr>\n",
    "  <td>**Expected Output:**<td>\n",
    "    <td>[[1, 'Australia', 80], [2, 'England', 45], [3, 'India', 26], [5, 'New Zealand', 15], [7, 'Wales', 10], [8, 'Scotland', 9]]\n",
    "</td>\n",
    "  </tr>\n",
    "</table>"
   ]
  },
  {
   "cell_type": "markdown",
   "metadata": {},
   "source": [
    "**Q12 Fetch the details about India from common_wealth_2018 using indexing**"
   ]
  },
  {
   "cell_type": "code",
   "execution_count": 6,
   "metadata": {
    "collapsed": true
   },
   "outputs": [],
   "source": [
    "## START CODE HERE\n",
    "\n",
    "\n",
    "## END CODE HERE"
   ]
  },
  {
   "cell_type": "markdown",
   "metadata": {},
   "source": [
    "<table>\n",
    "  <tr>\n",
    "  <td>**Expected Output:**<td>\n",
    "    <td>[3, 'India', 26]</td>\n",
    "  </tr>\n",
    "</table>"
   ]
  },
  {
   "cell_type": "markdown",
   "metadata": {},
   "source": [
    "**Q13 Create a new list with the number of gold medals won by each country in common_wealth_2018 using list comprehension.\n",
    "<br> Name the new list as gold_medals and print gold_medals.\n",
    "**"
   ]
  },
  {
   "cell_type": "code",
   "execution_count": 7,
   "metadata": {
    "collapsed": true
   },
   "outputs": [],
   "source": [
    "## START CODE HERE\n",
    "\n",
    "\n",
    "## END CODE HERE"
   ]
  },
  {
   "cell_type": "markdown",
   "metadata": {},
   "source": [
    "<table>\n",
    "  <tr>\n",
    "  <td>**Expected Output:**<td>\n",
    "    <td>[80, 45, 26, 15, 10, 9]</td>\n",
    "  </tr>\n",
    "</table>"
   ]
  },
  {
   "cell_type": "markdown",
   "metadata": {},
   "source": [
    "# Tuples"
   ]
  },
  {
   "cell_type": "markdown",
   "metadata": {},
   "source": [
    "Since we have done a lot of practice on lists, we won't put a lot of time on tuples."
   ]
  },
  {
   "cell_type": "markdown",
   "metadata": {},
   "source": [
    "**Q14 common_wealth_2018 is a nested list.\n",
    "<br> Convert it to a list containing tuples instead of lists.\n",
    "<br> Remember that common_wealth_2018 contains lists of 3 elements each, it needs to be unpacked using i,j,k.\n",
    "<br> Reassign it to 'common_wealth_2018'\n",
    "<br> Display common_wealth_2018**"
   ]
  },
  {
   "cell_type": "code",
   "execution_count": 8,
   "metadata": {
    "collapsed": true
   },
   "outputs": [],
   "source": [
    "## START CODE HERE\n",
    "\n",
    "\n",
    "## END CODE HERE"
   ]
  },
  {
   "cell_type": "markdown",
   "metadata": {},
   "source": [
    "<table>\n",
    "  <tr>\n",
    "  <td>**Expected Output:**<td>\n",
    "    <td>[(1, 'Australia', 80),\n",
    " <br>(2, 'England', 45),\n",
    " <br>(3, 'India', 26),\n",
    " <br>(5, 'New Zealand', 15),\n",
    " <br>(7, 'Wales', 10),\n",
    " <br>(8, 'Scotland', 9)]</td>\n",
    "  </tr>\n",
    "</table>\n",
    "    "
   ]
  },
  {
   "cell_type": "markdown",
   "metadata": {},
   "source": [
    "**Q15 Print the details of Australia in common_wealth_2018.**"
   ]
  },
  {
   "cell_type": "code",
   "execution_count": 9,
   "metadata": {
    "collapsed": true
   },
   "outputs": [],
   "source": [
    "## START CODE HERE\n",
    "\n",
    "\n",
    "## END CODE HERE"
   ]
  },
  {
   "cell_type": "markdown",
   "metadata": {},
   "source": [
    "<table>\n",
    "  <tr>\n",
    "  <td>**Expected Output:**<td>\n",
    "    <td>(1, 'Australia', 80)</td>\n",
    "  </tr>\n",
    "</table>"
   ]
  },
  {
   "cell_type": "markdown",
   "metadata": {},
   "source": [
    "**Q16 Print details of the last ranked country in common_wealth_2018.**"
   ]
  },
  {
   "cell_type": "code",
   "execution_count": 10,
   "metadata": {
    "collapsed": true
   },
   "outputs": [],
   "source": [
    "## START CODE HERE\n",
    "\n",
    "\n",
    "## END CODE HERE"
   ]
  },
  {
   "cell_type": "markdown",
   "metadata": {},
   "source": [
    "<table>\n",
    "  <tr>\n",
    "  <td>**Expected Output:**<td>\n",
    "    <td>(8, 'Scotland', 9)</td>\n",
    "  </tr>\n",
    "</table>"
   ]
  },
  {
   "cell_type": "markdown",
   "metadata": {},
   "source": [
    "**Q17 Print details of all countries in common_wealth_2018 starting from the second one.**"
   ]
  },
  {
   "cell_type": "code",
   "execution_count": 11,
   "metadata": {
    "collapsed": true
   },
   "outputs": [],
   "source": [
    "## START CODE HERE\n",
    "\n",
    "\n",
    "## END CODE HERE"
   ]
  },
  {
   "cell_type": "markdown",
   "metadata": {},
   "source": [
    "<table>\n",
    "  <tr>\n",
    "  <td>**Expected Output:**<td>\n",
    "    <td>[(2, 'England', 45), (3, 'India', 26), (5, 'New Zealand', 15), (7, 'Wales', 10), (8, 'Scotland', 9)]</td>\n",
    "  </tr>\n",
    "</table>"
   ]
  },
  {
   "cell_type": "markdown",
   "metadata": {},
   "source": [
    "**Q18 Print alternate elements in the list starting from second element.**"
   ]
  },
  {
   "cell_type": "code",
   "execution_count": 12,
   "metadata": {
    "collapsed": true
   },
   "outputs": [],
   "source": [
    "## START CODE HERE\n",
    "\n",
    "\n",
    "## END CODE HERE"
   ]
  },
  {
   "cell_type": "markdown",
   "metadata": {},
   "source": [
    "<table>\n",
    "  <tr>\n",
    "  <td>**Expected Output:**<td>\n",
    "    <td>[(2, 'England', 45), (5, 'New Zealand', 15), (8, 'Scotland', 9)]</td>\n",
    "  </tr>\n",
    "</table>"
   ]
  },
  {
   "cell_type": "markdown",
   "metadata": {},
   "source": [
    "**Q19 Print all elements in common_wealth_2018 in reverse order.**"
   ]
  },
  {
   "cell_type": "code",
   "execution_count": 13,
   "metadata": {
    "collapsed": true
   },
   "outputs": [],
   "source": [
    "## START CODE HERE\n",
    "\n",
    "\n",
    "## END CODE HERE"
   ]
  },
  {
   "cell_type": "markdown",
   "metadata": {},
   "source": [
    "<table>\n",
    "  <tr>\n",
    "  <td>**Expected Output:**<td>\n",
    "    <td>[(8, 'Scotland', 9), (7, 'Wales', 10), (5, 'New Zealand', 15), (3, 'India', 26), (2, 'England', 45), (1, 'Australia', 80)]</td>\n",
    "  </tr>\n",
    "</table>"
   ]
  },
  {
   "cell_type": "markdown",
   "metadata": {},
   "source": [
    "**Q20 Sort common_wealth_2018 using appropriate list method\n",
    "<br> Print the new 'common_wealth_2018'**"
   ]
  },
  {
   "cell_type": "code",
   "execution_count": 14,
   "metadata": {
    "collapsed": true
   },
   "outputs": [],
   "source": [
    "## START CODE HERE\n",
    "\n",
    "\n",
    "## END CODE HERE"
   ]
  },
  {
   "cell_type": "markdown",
   "metadata": {},
   "source": [
    "<table>\n",
    "  <tr>\n",
    "  <td>**Expected Output:**<td>\n",
    "    <td>[(1, 'Australia', 80), (2, 'England', 45), (3, 'India', 26), (5, 'New Zealand', 15), (7, 'Wales', 10), (8, 'Scotland', 9)]</td>\n",
    "  </tr>\n",
    "</table>"
   ]
  },
  {
   "cell_type": "markdown",
   "metadata": {
    "collapsed": true
   },
   "source": [
    "# Dictionaries"
   ]
  },
  {
   "cell_type": "markdown",
   "metadata": {},
   "source": [
    "We are converting common_wealth_2018 to a dictionary.\n",
    "<br> Lets see how its done."
   ]
  },
  {
   "cell_type": "code",
   "execution_count": 15,
   "metadata": {
    "collapsed": true
   },
   "outputs": [],
   "source": [
    "common_wealth_2018_dict = {}\n",
    "\n",
    "for i in common_wealth_2018:\n",
    "    common_wealth_2018_dict[i[0]] = {\"name\" : i[1], \"gold medals\" : i[2]}"
   ]
  },
  {
   "cell_type": "code",
   "execution_count": 16,
   "metadata": {},
   "outputs": [
    {
     "data": {
      "text/plain": [
       "{1: {'gold medals': 80, 'name': 'Australia'},\n",
       " 2: {'gold medals': 45, 'name': 'England'},\n",
       " 3: {'gold medals': 26, 'name': 'India'},\n",
       " 5: {'gold medals': 15, 'name': 'New Zealand'},\n",
       " 7: {'gold medals': 10, 'name': 'Wales'},\n",
       " 8: {'gold medals': 9, 'name': 'Scotland'}}"
      ]
     },
     "execution_count": 16,
     "metadata": {},
     "output_type": "execute_result"
    }
   ],
   "source": [
    "common_wealth_2018_dict"
   ]
  },
  {
   "cell_type": "markdown",
   "metadata": {},
   "source": [
    "**Q21 Now that common_wealth_2018_dict is ready, print the name of the country which is ranked 5th. **"
   ]
  },
  {
   "cell_type": "code",
   "execution_count": 17,
   "metadata": {
    "collapsed": true
   },
   "outputs": [],
   "source": [
    "## START CODE HERE\n",
    "\n",
    "\n",
    "## END CODE HERE"
   ]
  },
  {
   "cell_type": "markdown",
   "metadata": {},
   "source": [
    "<table>\n",
    "  <tr>\n",
    "  <td>**Expected Output:**<td>\n",
    "    <td>New Zealand</td>\n",
    "  </tr>\n",
    "</table>"
   ]
  },
  {
   "cell_type": "markdown",
   "metadata": {},
   "source": [
    "**Q22 Print the number of gold medals won by India.**"
   ]
  },
  {
   "cell_type": "code",
   "execution_count": 18,
   "metadata": {
    "collapsed": true
   },
   "outputs": [],
   "source": [
    "## START CODE HERE\n",
    "\n",
    "\n",
    "## END CODE HERE"
   ]
  },
  {
   "cell_type": "markdown",
   "metadata": {},
   "source": [
    "<table>\n",
    "  <tr>\n",
    "  <td>**Expected Output:**<td>\n",
    "    <td>26</td>\n",
    "  </tr>\n",
    "</table>"
   ]
  },
  {
   "cell_type": "markdown",
   "metadata": {},
   "source": [
    "**Q23 Print the details of the country ranked 7th.**"
   ]
  },
  {
   "cell_type": "code",
   "execution_count": 19,
   "metadata": {
    "collapsed": true
   },
   "outputs": [],
   "source": [
    "## START CODE HERE\n",
    "\n",
    "\n",
    "## END CODE HERE"
   ]
  },
  {
   "cell_type": "markdown",
   "metadata": {},
   "source": [
    "<table>\n",
    "  <tr>\n",
    "  <td>**Expected Output:**<td>\n",
    "    <td style=\"text-align:left;\">Wales\n",
    "<br>10</td>\n",
    "  </tr>\n",
    "</table>"
   ]
  },
  {
   "cell_type": "markdown",
   "metadata": {},
   "source": [
    "# Sets"
   ]
  },
  {
   "cell_type": "markdown",
   "metadata": {},
   "source": [
    "We have provided you with 3 sets Python, R , SAS which contains the names of students who have taken the course for those subjects."
   ]
  },
  {
   "cell_type": "code",
   "execution_count": 20,
   "metadata": {
    "collapsed": true
   },
   "outputs": [],
   "source": [
    "Python = {\"Ashok\", \"Amit\", \"Ankit\", \"Rajesh\", \"David\", \"Zakir\", \"Naina\", \"Saina\"}\n",
    "R = {\"Akanksha\", \"Ankit\", \"Aarti\", \"Manish\", \"Naina\", \"Amit\"}\n",
    "SAS = {\"Naresh\", \"Ankit\", \"Ravi\", \"David\", \"Zakir\", \"Lokesh\", \"Manish\"}"
   ]
  },
  {
   "cell_type": "markdown",
   "metadata": {},
   "source": [
    "**Q24 A new student \"Nandini\" has decided to enroll for Python and SAS courses.\n",
    "<br> Add her name to both the sets and print the sets.**"
   ]
  },
  {
   "cell_type": "code",
   "execution_count": 21,
   "metadata": {
    "collapsed": true
   },
   "outputs": [],
   "source": [
    "## START CODE HERE\n",
    "\n",
    "\n",
    "## END CODE HERE"
   ]
  },
  {
   "cell_type": "markdown",
   "metadata": {},
   "source": [
    "<table>\n",
    "  <tr>\n",
    "  <td>**Expected Output:**<td>\n",
    "    <td style=\"text-align:left;\">{'Amit', 'Naina', 'Ankit', 'Zakir', 'Rajesh', 'Nandini', 'Ashok', 'David', 'Saina'}\n",
    "<br>{'Ankit', 'Zakir', 'Ravi', 'Nandini', 'Naresh', 'David', 'Manish', 'Lokesh'}</td>\n",
    "  </tr>\n",
    "</table>"
   ]
  },
  {
   "cell_type": "markdown",
   "metadata": {},
   "source": [
    "**Q25 Lokesh has decided to leave the SAS course.\n",
    "<br> Remove his name from the set and then print it.**"
   ]
  },
  {
   "cell_type": "code",
   "execution_count": 22,
   "metadata": {
    "collapsed": true
   },
   "outputs": [],
   "source": [
    "## START CODE HERE\n",
    "\n",
    "\n",
    "## END CODE HERE"
   ]
  },
  {
   "cell_type": "markdown",
   "metadata": {},
   "source": [
    "<table>\n",
    "  <tr>\n",
    "  <td>**Expected Output:**<td>\n",
    "    <td>{'Ankit', 'Zakir', 'Ravi', 'Nandini', 'Naresh', 'David', 'Manish'}</td>\n",
    "  </tr>\n",
    "</table>"
   ]
  },
  {
   "cell_type": "markdown",
   "metadata": {},
   "source": [
    "All the questions from now, have one line solution"
   ]
  },
  {
   "cell_type": "markdown",
   "metadata": {},
   "source": [
    "**Q26 Print the names of all students from all courses.\n",
    "<br>TIP: Try to do it in one line code using '|' operator**"
   ]
  },
  {
   "cell_type": "code",
   "execution_count": 23,
   "metadata": {
    "collapsed": true
   },
   "outputs": [],
   "source": [
    "## START CODE HERE\n",
    "\n",
    "\n",
    "## END CODE HERE"
   ]
  },
  {
   "cell_type": "markdown",
   "metadata": {},
   "source": [
    "<table>\n",
    "  <tr>\n",
    "  <td>**Expected Output:**<td>\n",
    "    <td>{'Amit', 'Naina', 'Ankit', 'Rajesh', 'Ashok', 'Aarti', 'Saina', 'Manish', 'Akanksha', 'Zakir', 'Ravi', 'Nandini', 'Naresh', 'David'}</td>\n",
    "  </tr>\n",
    "</table>"
   ]
  },
  {
   "cell_type": "markdown",
   "metadata": {},
   "source": [
    "**Q27 Print the names of students who are taking all three courses together. (In simple words, the names which are common in all three sets)**"
   ]
  },
  {
   "cell_type": "code",
   "execution_count": 24,
   "metadata": {
    "collapsed": true
   },
   "outputs": [],
   "source": [
    "## START CODE HERE\n",
    "\n",
    "\n",
    "## END CODE HERE"
   ]
  },
  {
   "cell_type": "markdown",
   "metadata": {},
   "source": [
    "<table>\n",
    "  <tr>\n",
    "  <td>**Expected Output:**<td>\n",
    "    <td>{'Ankit'}</td>\n",
    "  </tr>\n",
    "</table>"
   ]
  },
  {
   "cell_type": "markdown",
   "metadata": {},
   "source": [
    "**Q28 Print the names of students who are taking Python course but not the R and SAS courses. (In simple words, the names which are present in Python set but not in R and SAS sets) **"
   ]
  },
  {
   "cell_type": "code",
   "execution_count": 25,
   "metadata": {
    "collapsed": true
   },
   "outputs": [],
   "source": [
    "## START CODE HERE\n",
    "\n",
    "\n",
    "## END CODE HERE"
   ]
  },
  {
   "cell_type": "markdown",
   "metadata": {},
   "source": [
    "<table>\n",
    "  <tr>\n",
    "  <td>**Expected Output:**<td>\n",
    "    <td>{'Saina', 'Rajesh', 'Ashok'}</td>\n",
    "  </tr>\n",
    "</table>"
   ]
  },
  {
   "cell_type": "markdown",
   "metadata": {},
   "source": [
    "**Q29 Print the names of students who are taking only Python course or only R course or only course. (In simple words, the names which are not common to any combination of given sets) \n",
    "<br> For eg. Saina is taking only the Python course and no other course.**"
   ]
  },
  {
   "cell_type": "code",
   "execution_count": 26,
   "metadata": {
    "collapsed": true
   },
   "outputs": [],
   "source": [
    "## START CODE HERE\n",
    "\n",
    "\n",
    "## END CODE HERE"
   ]
  },
  {
   "cell_type": "markdown",
   "metadata": {},
   "source": [
    "<table>\n",
    "  <tr>\n",
    "  <td>**Expected Output:**<td>\n",
    "    <td>{'Ankit', 'Ravi', 'Rajesh', 'Naresh', 'Ashok', 'Aarti', 'Saina', 'Akanksha'}</td>\n",
    "  </tr>\n",
    "</table>"
   ]
  },
  {
   "cell_type": "markdown",
   "metadata": {},
   "source": [
    "# Congratulations\n",
    "\n",
    "You are through the third assignment of the Basic Python Programming Course.\n",
    "<br> This chapter was the most important part of the course, this will help you a lot in your data science career.  \n",
    "Further in the course we'll try to enhance your knowledge and understanding of compound datatypes and also learn various access techniques. \n",
    "<br>Buckle up!\n",
    "<br>You are doing very well.\n",
    "<br>See you in the next chapter."
   ]
  }
 ],
 "metadata": {
  "kernelspec": {
   "display_name": "Python 3",
   "language": "python",
   "name": "python3"
  },
  "language_info": {
   "codemirror_mode": {
    "name": "ipython",
    "version": 3
   },
   "file_extension": ".py",
   "mimetype": "text/x-python",
   "name": "python",
   "nbconvert_exporter": "python",
   "pygments_lexer": "ipython3",
   "version": "3.7.0"
  }
 },
 "nbformat": 4,
 "nbformat_minor": 2
}
