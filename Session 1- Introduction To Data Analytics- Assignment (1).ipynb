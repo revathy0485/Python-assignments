{
 "cells": [
  {
   "cell_type": "markdown",
   "metadata": {},
   "source": [
    "### Welcome to your first assignment\n",
    "\n",
    "Hello There. This is a simple way to get you started with Programming on your OWN using Python.\n",
    "\n",
    "**If you come from a programming background**, you are likely to find this easy, and should be able to complete the assignment within **20 minutes**.\n",
    "\n",
    "**For rest of the people, if you have not programmed for a few years OR never before**\n",
    "This is very important that you spend **between 1-5 hours** in your first week, depending upon how quickly you become comfortable.\n",
    "\n",
    "Getting comfortable with the Jupyter Notebook, writing code, exploring Python Programming syntax, the operators, basic Math Library, and very important aspect of programming, debugging.\n",
    "\n",
    "**What is debugging**: To identify and remove errors from a program\n",
    "\n",
    "With this assignment and in the next week or so, we would need you to cross the limitation of **never programmed before**.\n",
    "\n",
    "You need to start thinking of programming as a tool to help you do your Data Science job. As you quickly get to the complex data types in Python, and start with NumPy and Data Science related concepts, this and next week of work will enable you in a big way.\n",
    "\n",
    "All the very best. Do not hurry up, and be committed to your learning.\n",
    "And most important Have FUN.\n",
    "Happy coding!!\n",
    "\n",
    "\n",
    "Develop a passion for learning. If you do, you will never cease to grow.\n",
    "                                                                        - Anthony J. D'Angelo\n",
    "                                                                        \n",
    "Success is not final, failure is not fatal: it is the courage to continue that counts. \n",
    "                                                                        - Winston Churchill\n",
    "\n"
   ]
  },
  {
   "cell_type": "markdown",
   "metadata": {},
   "source": [
    "# Variables and Overview of data types\n",
    "\n",
    "### What is a Variable?\n",
    "A variable is something that holds a value that may change. In simplest terms, a variable is just a box that you can put stuff in. You can use variables to store all kinds of stuff, but for now, we are just going to look at storing numbers in variables.\n",
    "\n",
    "Python is completely object oriented, and not \"statically typed\". You do not need to declare variables before using them, or declare their type. Every variable in Python is an object.\n",
    "\n",
    "### What is a data-type?\n",
    "In Python, like in all programming languages, data types are used to classify one particular type of data. This is important because the specific data type you use will determine what values you can assign to it and what you can do to it (including what operations you can perform on it).\n",
    "\n",
    "eg.&emsp;Lamborgini is an object of data type \"car\". \n",
    "<br>&emsp;&emsp; Can \"Bajaj Yamaha\" be an object of type \"car\"?\n",
    "<br>&emsp;&emsp; No, because \"Bajaj Yamaha\" is a bike.\n",
    "<br>&emsp;&emsp; This is the significance of data type.\n",
    "\n",
    "#### IMPORTANT\n",
    "Python provides extensive documentation for all it syntax, library etc\n",
    "Make sure that you start to become comfortable in referring to it\n",
    "Here is the link to the basic built-in data types.\n",
    "\n",
    "Refer : https://docs.python.org/3.6/library/stdtypes.html\n"
   ]
  },
  {
   "cell_type": "markdown",
   "metadata": {},
   "source": [
    "In the following code, we are assigning value 10 to a variable x"
   ]
  },
  {
   "cell_type": "code",
   "execution_count": 92,
   "metadata": {},
   "outputs": [],
   "source": [
    "x = 10"
   ]
  },
  {
   "cell_type": "markdown",
   "metadata": {},
   "source": [
    "**Q1 What is the type of x?**\n",
    "<br> Execute the code by pressing \"Shift Enter\"\n",
    "<br> And you will see that the function returns one of the basic data types (int, float, str)\n",
    "\n",
    "<br> **Hint: Use type(x) function**"
   ]
  },
  {
   "cell_type": "code",
   "execution_count": 83,
   "metadata": {},
   "outputs": [
    {
     "data": {
      "text/plain": [
       "int"
      ]
     },
     "execution_count": 83,
     "metadata": {},
     "output_type": "execute_result"
    }
   ],
   "source": [
    "# Write your code below\n",
    "\n",
    "type(x)\n",
    "# Code ends here"
   ]
  },
  {
   "cell_type": "markdown",
   "metadata": {},
   "source": [
    "In the following code, we are assigning a value 4.9 to variable y"
   ]
  },
  {
   "cell_type": "code",
   "execution_count": 84,
   "metadata": {},
   "outputs": [],
   "source": [
    "y = 4.9"
   ]
  },
  {
   "cell_type": "markdown",
   "metadata": {},
   "source": [
    "**Q2 What is the type of y?**\n",
    "\n",
    "Follow the same steps as the ones in the previous question"
   ]
  },
  {
   "cell_type": "code",
   "execution_count": 85,
   "metadata": {},
   "outputs": [
    {
     "data": {
      "text/plain": [
       "float"
      ]
     },
     "execution_count": 85,
     "metadata": {},
     "output_type": "execute_result"
    }
   ],
   "source": [
    "# Write your code below\n",
    "type(y)\n",
    "\n",
    "# Code ends here"
   ]
  },
  {
   "cell_type": "markdown",
   "metadata": {
    "collapsed": true
   },
   "source": [
    "**Q3 Type cast x to float**\n",
    "\n",
    "Type casting is useful for improving precision. Precision is very important for data analysis\n",
    "<br> **TIP:** use float(x) to type cast to float. it will automatically print the float equivalent value"
   ]
  },
  {
   "cell_type": "code",
   "execution_count": 86,
   "metadata": {},
   "outputs": [
    {
     "data": {
      "text/plain": [
       "10.0"
      ]
     },
     "execution_count": 86,
     "metadata": {},
     "output_type": "execute_result"
    }
   ],
   "source": [
    "# Write your code below\n",
    "\n",
    "float(x)\n",
    "# Code ends here"
   ]
  },
  {
   "cell_type": "markdown",
   "metadata": {},
   "source": [
    "# Operators"
   ]
  },
  {
   "cell_type": "markdown",
   "metadata": {},
   "source": [
    "Python language supports the following types of operators.\n",
    "\n",
    "Arithmetic Operators<br>\n",
    "Comparison (Relational) Operators<br>\n",
    "Assignment Operators<br>\n",
    "Logical Operators<br>\n",
    "Membership Operators<br>"
   ]
  },
  {
   "cell_type": "markdown",
   "metadata": {},
   "source": [
    "** First lets clear out the concept of operators and operands. **\n",
    "\n",
    "Operators are special tokens that represent computations like addition, multiplication and division,etc.<br>The values the operator works on are called operands."
   ]
  },
  {
   "cell_type": "markdown",
   "metadata": {},
   "source": [
    "Lets go over all the types of operators"
   ]
  },
  {
   "cell_type": "markdown",
   "metadata": {},
   "source": [
    "# Arithmetic Operators\n"
   ]
  },
  {
   "cell_type": "markdown",
   "metadata": {},
   "source": [
    "<tbody>\n",
    "\t\t<tr>\n",
    "\t\t\t<th style=\"text-align:center;\">Operator</th>\n",
    "\t\t\t<th style=\"text-align:center;width:45%\">Meaning</th>\n",
    "\t\t\t<th style=\"text-align:center;\">Example</th>\n",
    "\t\t</tr>\n",
    "\t\t<tr>\n",
    "\t\t\t<td style=\"text-align:center;\">+</td>\n",
    "\t\t\t<td style=\"text-align:center;\">Add two operands or unary plus</td>\n",
    "\t\t\t<td style=\"text-align:center;\">x + y<br>\n",
    "\t\t\t</td>\n",
    "\t\t</tr>\n",
    "\t\t<tr>\n",
    "\t\t\t<td style=\"text-align:center;\">-</td>\n",
    "\t\t\t<td style=\"text-align:center;\">Subtract right operand from the left or unary minus</td>\n",
    "\t\t\t<td style=\"text-align:center;\">x - y<br></td>\n",
    "\t\t</tr>\n",
    "\t\t<tr>\n",
    "\t\t\t<td style=\"text-align:center;\">\\**</td>\n",
    "\t\t\t<td style=\"text-align:center;\">Multiply two operands</td>\n",
    "\t\t\t<td style=\"text-align:center;\">x\\*y</td>\n",
    "\t\t</tr>\n",
    "\t\t<tr>\n",
    "\t\t\t<td style=\"text-align:center;\">/</td>\n",
    "\t\t\t<td style=\"text-align:center;\">Divide left operand by the right one (always results into float)</td>\n",
    "\t\t\t<td style=\"text-align:center;\">x / y</td>\n",
    "\t\t</tr>\n",
    "\t\t<tr>\n",
    "\t\t\t<td style=\"text-align:center;\">%</td>\n",
    "\t\t\t<td style=\"text-align:center;\">Modulus - remainder of the division of left operand by the right</td>\n",
    "\t\t\t<td style=\"text-align:center;\">x % y (remainder of x/y)</td>\n",
    "\t\t</tr>\n",
    "\t\t<tr>\n",
    "\t\t\t<td style=\"text-align:center;\">//</td>\n",
    "\t\t\t<td style=\"text-align:center;\">Floor division - division that results into whole number adjusted to the left in the number line</td>\n",
    "\t\t\t<td style=\"text-align:center;\">x // y (quotient of x/y)</td>\n",
    "\t\t</tr>\n",
    "\t\t<tr>\n",
    "\t\t\t<td style=\"text-align:center;\">\\*\\*</td>\n",
    "\t\t\t<td style=\"text-align:center;\">Exponent - left operand raised to the power of right</td>\n",
    "\t\t\t<td style=\"text-align:center;\">x \\** y (x to the power y)</td>\n",
    "\t\t</tr>\n",
    "\t</tbody>"
   ]
  },
  {
   "cell_type": "markdown",
   "metadata": {},
   "source": [
    "Please refer the operators given in the table to solve following questions "
   ]
  },
  {
   "cell_type": "markdown",
   "metadata": {},
   "source": [
    "Given that"
   ]
  },
  {
   "cell_type": "code",
   "execution_count": 93,
   "metadata": {},
   "outputs": [],
   "source": [
    "a = 5\n",
    "b = 10"
   ]
  },
  {
   "cell_type": "markdown",
   "metadata": {
    "collapsed": true
   },
   "source": [
    "**Q4  Add a and b and display the result**\n",
    "<br>\n",
    "&ensp;&ensp;Whenever you need to display the result you need to use **print** function."
   ]
  },
  {
   "cell_type": "code",
   "execution_count": 94,
   "metadata": {},
   "outputs": [
    {
     "name": "stdout",
     "output_type": "stream",
     "text": [
      "15\n"
     ]
    }
   ],
   "source": [
    "# Write your code below\n",
    "\n",
    "print(a+b)\n",
    "# Code ends here"
   ]
  },
  {
   "cell_type": "markdown",
   "metadata": {
    "collapsed": true
   },
   "source": [
    "**Q5 Subtract a from b and display the result**"
   ]
  },
  {
   "cell_type": "code",
   "execution_count": 95,
   "metadata": {},
   "outputs": [
    {
     "name": "stdout",
     "output_type": "stream",
     "text": [
      "5\n"
     ]
    }
   ],
   "source": [
    "# Write your code below\n",
    "print(b-a)\n",
    "\n",
    "# Code ends here"
   ]
  },
  {
   "cell_type": "markdown",
   "metadata": {
    "collapsed": true
   },
   "source": [
    "**Q6 Multiply a and b and display the result**"
   ]
  },
  {
   "cell_type": "code",
   "execution_count": 96,
   "metadata": {},
   "outputs": [
    {
     "name": "stdout",
     "output_type": "stream",
     "text": [
      "50\n"
     ]
    }
   ],
   "source": [
    "# Write your code below\n",
    "\n",
    "print(a*b)\n",
    "\n",
    "# Code ends here"
   ]
  },
  {
   "cell_type": "markdown",
   "metadata": {
    "collapsed": true
   },
   "source": [
    "**Q7 Divide a by b and display the result**"
   ]
  },
  {
   "cell_type": "code",
   "execution_count": 97,
   "metadata": {},
   "outputs": [
    {
     "name": "stdout",
     "output_type": "stream",
     "text": [
      "0.5\n"
     ]
    }
   ],
   "source": [
    "# Write your code below\n",
    "\n",
    "\n",
    "print(a/b)\n",
    "# Code ends here"
   ]
  },
  {
   "cell_type": "markdown",
   "metadata": {
    "collapsed": true
   },
   "source": [
    "**Q8 Find the remainder obtained when a is divided by b and display the result**"
   ]
  },
  {
   "cell_type": "code",
   "execution_count": 98,
   "metadata": {},
   "outputs": [
    {
     "name": "stdout",
     "output_type": "stream",
     "text": [
      "5\n"
     ]
    }
   ],
   "source": [
    "# Write your code below\n",
    "print(a%b)\n",
    "\n",
    "# Code ends here"
   ]
  },
  {
   "cell_type": "markdown",
   "metadata": {
    "collapsed": true
   },
   "source": [
    "**Q9 Find the result obtained when a is raised to b and display the result**"
   ]
  },
  {
   "cell_type": "code",
   "execution_count": 101,
   "metadata": {},
   "outputs": [
    {
     "name": "stdout",
     "output_type": "stream",
     "text": [
      "5\n",
      "10\n",
      "9765625\n"
     ]
    }
   ],
   "source": [
    "# Write your code below\n",
    "print(a)\n",
    "print(b)\n",
    "print(a**b)\n",
    "\n",
    "# Code ends here"
   ]
  },
  {
   "cell_type": "markdown",
   "metadata": {
    "collapsed": true
   },
   "source": [
    "**Q10 Find the quotient obtained when a is divided by b and display the result**\n",
    "\n",
    "**Short revision**\n",
    "\n",
    "eg. \n",
    "<br> a = 3\n",
    "<br> b = 2 <br>\n",
    "<br> a/b is\n",
    "<br>\n",
    "<span style=\"display:inline-block; width: 45px;\"></span>quotient = 1 <br>\n",
    "<span style=\"display:inline-block; width: 45px;\"></span>remainder = 1 <br>\n",
    "\n",
    "Now try to find out the exact operator from the table given above which can give you the quotient "
   ]
  },
  {
   "cell_type": "code",
   "execution_count": 102,
   "metadata": {},
   "outputs": [],
   "source": [
    "a = 20\n",
    "b = 6"
   ]
  },
  {
   "cell_type": "code",
   "execution_count": 103,
   "metadata": {},
   "outputs": [
    {
     "name": "stdout",
     "output_type": "stream",
     "text": [
      "3\n"
     ]
    }
   ],
   "source": [
    "# Write your code below\n",
    "print(a//b)\n",
    "\n",
    "# Code ends here"
   ]
  },
  {
   "cell_type": "markdown",
   "metadata": {},
   "source": [
    "# Introduction to math library built-in functions\n",
    "\n",
    "\n",
    "** The math library can be used to perform various functions. You can check them out in the link below.** <br>\n",
    "All links to Python 3.6<br>\n",
    "https://docs.python.org/3.6/library/math.html\n",
    "\n",
    "The library includes logarithmic, trigonometric and various scientific functions which can help in performing different operations on the data"
   ]
  },
  {
   "cell_type": "code",
   "execution_count": 104,
   "metadata": {},
   "outputs": [],
   "source": [
    "import math"
   ]
  },
  {
   "cell_type": "markdown",
   "metadata": {
    "collapsed": true
   },
   "source": [
    "**Q11 Use appropriate function and find 3\\*\\*2 **"
   ]
  },
  {
   "cell_type": "code",
   "execution_count": 105,
   "metadata": {},
   "outputs": [
    {
     "data": {
      "text/plain": [
       "9.0"
      ]
     },
     "execution_count": 105,
     "metadata": {},
     "output_type": "execute_result"
    }
   ],
   "source": [
    "# Write your code below\n",
    "x=3\n",
    "y=2\n",
    "math.pow(x, y)\n",
    "\n",
    "# Code ends here"
   ]
  },
  {
   "cell_type": "markdown",
   "metadata": {
    "collapsed": true
   },
   "source": [
    "**Q12 Use appropriate function and find square root of 64**"
   ]
  },
  {
   "cell_type": "code",
   "execution_count": 106,
   "metadata": {},
   "outputs": [
    {
     "data": {
      "text/plain": [
       "8.0"
      ]
     },
     "execution_count": 106,
     "metadata": {},
     "output_type": "execute_result"
    }
   ],
   "source": [
    "# Write your code below\n",
    "import math\n",
    "x=64\n",
    "math.sqrt(x)\n",
    "\n",
    "\n",
    "# Code ends here"
   ]
  },
  {
   "cell_type": "markdown",
   "metadata": {},
   "source": [
    "# Comparison Operators"
   ]
  },
  {
   "cell_type": "markdown",
   "metadata": {},
   "source": [
    "<tbody><tr>\n",
    "<th style=\"text-align:center;width:10%\">Operator</th>\n",
    "<th style=\"text-align:center;width:45%\">Description</th>\n",
    "\n",
    "</tr>\n",
    "<tr>\n",
    "<td class=\"ts\" style=\"text-align:center;\" >==</td>\n",
    "<td style=\"text-align:center;\">If the values of two operands are equal, then the condition becomes true.</td>\n",
    "\n",
    "<tr>\n",
    "<td class=\"ts\" style=\"text-align:center;\">!=</td>\n",
    "<td style=\"text-align:center;\">If values of two operands are not equal, then condition becomes true.</td>\n",
    "\n",
    "</tr>\n",
    "<tr>\n",
    "<td class=\"ts\" style=\"text-align:center;\">&gt;</td>\n",
    "<td style=\"text-align:center;\">If the value of left operand is greater than the value of right operand, then condition becomes true.</td>\n",
    "</tr>\n",
    "<tr>\n",
    "<td class=\"ts\" style=\"text-align:center;\">&lt;</td>\n",
    "<td style=\"text-align:center;\">If the value of left operand is less than the value of right operand, then condition becomes true.</td>\n",
    "\n",
    "</tr>\n",
    "<tr>\n",
    "<td class=\"ts\" style=\"text-align:center;\">&gt;=</td>\n",
    "<td style=\"text-align:center;\">If the value of left operand is greater than or equal to the value of right operand, then condition becomes true.</td>\n",
    "\n",
    "</tr>\n",
    "<tr>\n",
    "<td class=\"ts\" style=\"text-align:center;\">&lt;=</td>\n",
    "<td style=\"text-align:center;\">If the value of left operand is less than or equal to the value of right operand, then condition becomes true.</td>\n",
    "\n",
    "</tr>\n",
    "</tbody>"
   ]
  },
  {
   "cell_type": "markdown",
   "metadata": {},
   "source": [
    "** Please note that,&nbsp; '=' is not same as '=='**<br>\n",
    "The reason being '=' is an assignment operator<br>\n",
    "For eg. a = b + c<br>\n",
    "The result of (b + c) would be stored in a<br>\n",
    "While, if suppose a == b,<br>\n",
    "Here we are trying to compare the values of a and b<br>\n",
    "Don't worry you will be exploring comparison operators in the following section"
   ]
  },
  {
   "cell_type": "markdown",
   "metadata": {},
   "source": [
    "\n",
    "#### Some operations are supported by several object types; in particular, practically all objects can be compared, tested for truth value, and converted to a string\n"
   ]
  },
  {
   "cell_type": "markdown",
   "metadata": {},
   "source": [
    "Given that"
   ]
  },
  {
   "cell_type": "code",
   "execution_count": 34,
   "metadata": {},
   "outputs": [
    {
     "name": "stdout",
     "output_type": "stream",
     "text": [
      "20\n",
      "6\n"
     ]
    }
   ],
   "source": [
    "a = 20\n",
    "b = 6\n",
    "print(a)\n",
    "print(b)"
   ]
  },
  {
   "cell_type": "markdown",
   "metadata": {
    "collapsed": true
   },
   "source": [
    "**Q13 Check whether a equal to b and display the result**\n",
    "\n",
    "Tip: Use print statement"
   ]
  },
  {
   "cell_type": "code",
   "execution_count": 33,
   "metadata": {},
   "outputs": [
    {
     "name": "stdout",
     "output_type": "stream",
     "text": [
      "20\n",
      "6\n",
      "False\n"
     ]
    }
   ],
   "source": [
    "# Write your code below\n",
    "print(a)\n",
    "print(b)\n",
    "print(a==b)\n",
    "# Code ends here"
   ]
  },
  {
   "cell_type": "markdown",
   "metadata": {},
   "source": [
    "**Q14 Can you tell what is the data type of your output?**\n",
    "Refer: https://docs.python.org/3.6/library/stdtypes.html"
   ]
  },
  {
   "cell_type": "code",
   "execution_count": 32,
   "metadata": {},
   "outputs": [
    {
     "name": "stdout",
     "output_type": "stream",
     "text": [
      "20\n",
      "6\n"
     ]
    },
    {
     "data": {
      "text/plain": [
       "bool"
      ]
     },
     "execution_count": 32,
     "metadata": {},
     "output_type": "execute_result"
    }
   ],
   "source": [
    "# Write your code below\n",
    "print(a)\n",
    "print(b)\n",
    "type(a==b)\n",
    "\n",
    "# Code ends here"
   ]
  },
  {
   "cell_type": "markdown",
   "metadata": {},
   "source": [
    "##### Bonus Q<br>\n",
    "\n",
    "**Q15 Try a = b also and see the result**"
   ]
  },
  {
   "cell_type": "code",
   "execution_count": 31,
   "metadata": {},
   "outputs": [
    {
     "name": "stdout",
     "output_type": "stream",
     "text": [
      "20\n",
      "6\n"
     ]
    },
    {
     "ename": "TypeError",
     "evalue": "'a' is an invalid keyword argument for print()",
     "output_type": "error",
     "traceback": [
      "\u001b[1;31m---------------------------------------------------------------------------\u001b[0m",
      "\u001b[1;31mTypeError\u001b[0m                                 Traceback (most recent call last)",
      "\u001b[1;32m<ipython-input-31-d0d8014397d6>\u001b[0m in \u001b[0;36m<module>\u001b[1;34m()\u001b[0m\n\u001b[0;32m      2\u001b[0m \u001b[0mprint\u001b[0m\u001b[1;33m(\u001b[0m\u001b[0ma\u001b[0m\u001b[1;33m)\u001b[0m\u001b[1;33m\u001b[0m\u001b[0m\n\u001b[0;32m      3\u001b[0m \u001b[0mprint\u001b[0m\u001b[1;33m(\u001b[0m\u001b[0mb\u001b[0m\u001b[1;33m)\u001b[0m\u001b[1;33m\u001b[0m\u001b[0m\n\u001b[1;32m----> 4\u001b[1;33m \u001b[0mprint\u001b[0m\u001b[1;33m(\u001b[0m\u001b[0ma\u001b[0m\u001b[1;33m=\u001b[0m\u001b[0mb\u001b[0m\u001b[1;33m)\u001b[0m\u001b[1;33m\u001b[0m\u001b[0m\n\u001b[0m\u001b[0;32m      5\u001b[0m \u001b[1;31m# Code ends here\u001b[0m\u001b[1;33m\u001b[0m\u001b[1;33m\u001b[0m\u001b[0m\n",
      "\u001b[1;31mTypeError\u001b[0m: 'a' is an invalid keyword argument for print()"
     ]
    }
   ],
   "source": [
    "# Write your code below\n",
    "print(a)\n",
    "print(b)\n",
    "print(a=b)\n",
    "# Code ends here"
   ]
  },
  {
   "cell_type": "markdown",
   "metadata": {},
   "source": [
    "**Q16 Check whether a equal to b using not equal (!=) operator and display the result**"
   ]
  },
  {
   "cell_type": "code",
   "execution_count": 30,
   "metadata": {},
   "outputs": [
    {
     "name": "stdout",
     "output_type": "stream",
     "text": [
      "20\n",
      "6\n",
      "True\n"
     ]
    }
   ],
   "source": [
    "# Write your code below\n",
    "print(a)\n",
    "print(b)\n",
    "print(a!=b)\n",
    "# Code ends here"
   ]
  },
  {
   "cell_type": "markdown",
   "metadata": {
    "collapsed": true
   },
   "source": [
    "**Q17 Check whether a is greater than b and display the result**"
   ]
  },
  {
   "cell_type": "code",
   "execution_count": 29,
   "metadata": {},
   "outputs": [
    {
     "name": "stdout",
     "output_type": "stream",
     "text": [
      "20\n",
      "6\n",
      "True\n"
     ]
    }
   ],
   "source": [
    "# Write your code below\n",
    "print(a)\n",
    "print(b)\n",
    "print(a>b)\n",
    "\n",
    "# Code ends here"
   ]
  },
  {
   "cell_type": "markdown",
   "metadata": {
    "collapsed": true
   },
   "source": [
    "**Q18 Check whether a is less than b and display the result**"
   ]
  },
  {
   "cell_type": "code",
   "execution_count": 28,
   "metadata": {},
   "outputs": [
    {
     "name": "stdout",
     "output_type": "stream",
     "text": [
      "20\n",
      "6\n",
      "False\n"
     ]
    }
   ],
   "source": [
    "# Write your code below\n",
    "print(a)\n",
    "print(b)\n",
    "print(a<b)\n",
    "\n",
    "# Code ends here"
   ]
  },
  {
   "cell_type": "markdown",
   "metadata": {
    "collapsed": true
   },
   "source": [
    "**Q19 Check whether a is greater than or equal to b and display the result**"
   ]
  },
  {
   "cell_type": "code",
   "execution_count": 26,
   "metadata": {},
   "outputs": [
    {
     "name": "stdout",
     "output_type": "stream",
     "text": [
      "20\n",
      "6\n",
      "True\n"
     ]
    }
   ],
   "source": [
    "# Write your code below\n",
    "print(a)\n",
    "print(b)\n",
    "print(a>=b)\n",
    "\n",
    "# Code ends here"
   ]
  },
  {
   "cell_type": "markdown",
   "metadata": {
    "collapsed": true
   },
   "source": [
    "**Q20 Check whether a is less than or equal to b and display the result**"
   ]
  },
  {
   "cell_type": "code",
   "execution_count": 27,
   "metadata": {},
   "outputs": [
    {
     "name": "stdout",
     "output_type": "stream",
     "text": [
      "20\n",
      "6\n",
      "False\n"
     ]
    }
   ],
   "source": [
    "# Write your code below\n",
    "\n",
    "print(a)\n",
    "print(b)\n",
    "print(a<=b)\n",
    "# Code ends here"
   ]
  },
  {
   "cell_type": "markdown",
   "metadata": {},
   "source": [
    "# Assignment Operators"
   ]
  },
  {
   "cell_type": "markdown",
   "metadata": {},
   "source": [
    "<tbody><tr>\n",
    "<th style=\"text-align:center;width:25%\">Operator</th>\n",
    "<th style=\"text-align:center;width:45%\">Description</th>\n",
    "<th style=\"text-align:center;\">Example</th>\n",
    "</tr>\n",
    "<tr>\n",
    "<td class=\"ts\" style=\"text-align:center;\">=</td>\n",
    "<td style=\"text-align:center;\">Assigns values from right side operands to left side operand</td>\n",
    "<td style=\"vertical-align:middle;text-align:center;\">c = a + b assigns value of a + b into c</td>\n",
    "</tr>\n",
    "<tr>\n",
    "<td class=\"ts\" style=\"text-align:center;\">+= Add AND</td>\n",
    "<td style=\"text-align:center;\">It adds right operand to the left operand and assign the result to left operand</td>\n",
    "<td style=\"vertical-align:middle;text-align:center;\">c += a is equivalent to c = c + a</td>\n",
    "</tr>\n",
    "<tr>\n",
    "<td class=\"ts\" style=\"text-align:center;\">-= Subtract AND</td>\n",
    "<td style=\"text-align:center;\">It subtracts right operand from the left operand and assign the result to left operand</td>\n",
    "<td style=\"vertical-align:middle;text-align:center;\">c -= a is equivalent to c = c - a</td>\n",
    "</tr>\n",
    "<tr>\n",
    "<td class=\"ts\" style=\"text-align:center;\">\\*= Multiply AND</td>\n",
    "<td style=\"text-align:center;\">It multiplies right operand with the left operand and assign the result to left operand</td>\n",
    "<td style=\"vertical-align:middle;text-align:center;\">c \\*= a is equivalent to c = c \\* a</td>\n",
    "</tr>\n",
    "<tr>\n",
    "<td class=\"ts\" style=\"text-align:center;\">/= Divide AND</td>\n",
    "<td style=\"text-align:center;\">It divides left operand with the right operand and assign the result to left operand</td>\n",
    "<td style=\"vertical-align:middle;text-align:center;\">c /= a is equivalent to c = c / a</td>\n",
    "</tr>\n",
    "<tr>\n",
    "<td class=\"ts\" style=\"text-align:center;\">%= Modulus AND</td>\n",
    "<td style=\"text-align:center;\">It takes modulus using two operands and assign the result to left operand</td>\n",
    "<td style=\"vertical-align:middle;text-align:center;\">c %= a is equivalent to c = c % a</td>\n",
    "</tr>\n",
    "<tr>\n",
    "<td class=\"ts\" style=\"text-align:center;\"> \\*\\* = Exponent AND</td>\n",
    "<td style=\"text-align:center;\">Performs exponential (power) calculation on operators and assign value to the left operand</td>\n",
    "<td style=\"vertical-align:middle;text-align:center;\">c \\*\\*= a is equivalent to c = c \\*\\* a</td>\n",
    "</tr>\n",
    "<tr>\n",
    "<td class=\"ts\" style=\"text-align:center;\">//= Floor Division</td>\n",
    "<td style=\"text-align:center;\">It performs floor division on operators and assign value to the left operand</td>\n",
    "<td style=\"vertical-align:middle;text-align:center;\">c //= a is equivalent to c = c // a</td>\n",
    "</tr>\n",
    "</tbody>"
   ]
  },
  {
   "cell_type": "markdown",
   "metadata": {},
   "source": [
    "These are called as 'short hand' operators. They will help you to code faster."
   ]
  },
  {
   "cell_type": "markdown",
   "metadata": {},
   "source": [
    "**Q21 Assign 5 to variable a**\n",
    "<br> **Print a**"
   ]
  },
  {
   "cell_type": "code",
   "execution_count": 56,
   "metadata": {},
   "outputs": [
    {
     "name": "stdout",
     "output_type": "stream",
     "text": [
      "5\n"
     ]
    }
   ],
   "source": [
    "# Write your code below\n",
    "a=5\n",
    "print(a)\n",
    "\n",
    "# Code ends here"
   ]
  },
  {
   "cell_type": "markdown",
   "metadata": {},
   "source": [
    "**Q22 Add 5 to variable 'a' and assign the value to 'a' (Hint: use '+=')**\n",
    "<br> **Print a**"
   ]
  },
  {
   "cell_type": "code",
   "execution_count": 58,
   "metadata": {},
   "outputs": [
    {
     "name": "stdout",
     "output_type": "stream",
     "text": [
      "15\n"
     ]
    }
   ],
   "source": [
    "# Write your code below\n",
    "a=a+5\n",
    "print(a)\n",
    "\n",
    "# Code ends here"
   ]
  },
  {
   "cell_type": "markdown",
   "metadata": {},
   "source": [
    "**Q23 Subtract 5 from variable 'a' and assign the value to 'a' (Hint: use '-=')**\n",
    "<br> **Print a**"
   ]
  },
  {
   "cell_type": "code",
   "execution_count": 59,
   "metadata": {},
   "outputs": [
    {
     "name": "stdout",
     "output_type": "stream",
     "text": [
      "10\n"
     ]
    }
   ],
   "source": [
    "# Write your code below\n",
    " \n",
    "a=a-5\n",
    "print(a)\n",
    "# Code ends here"
   ]
  },
  {
   "cell_type": "markdown",
   "metadata": {},
   "source": [
    "**Q24 Multiply 5 to variable 'a' and assign the value to 'a' (Hint: use '*=')**\n",
    "<br> **Print a**"
   ]
  },
  {
   "cell_type": "code",
   "execution_count": 60,
   "metadata": {},
   "outputs": [
    {
     "name": "stdout",
     "output_type": "stream",
     "text": [
      "50\n"
     ]
    }
   ],
   "source": [
    "# Write your code below\n",
    "a=a*5\n",
    "print(a)\n",
    "\n",
    "# Code ends here"
   ]
  },
  {
   "cell_type": "markdown",
   "metadata": {},
   "source": [
    "**Q25 Divide variable 'a' by 5 and assign the value to 'a' (Hint: use '/=')**\n",
    "<br> **Print a**"
   ]
  },
  {
   "cell_type": "code",
   "execution_count": 61,
   "metadata": {},
   "outputs": [
    {
     "name": "stdout",
     "output_type": "stream",
     "text": [
      "10.0\n"
     ]
    }
   ],
   "source": [
    "# Write your code below\n",
    "\n",
    "a=a/5\n",
    "print(a)\n",
    "# Code ends here"
   ]
  },
  {
   "cell_type": "markdown",
   "metadata": {},
   "source": [
    "**Q26 Divide variable 'a' by 5  and assign the remainder value to 'a' (Hint: use '%=')**\n",
    "<br> **Print a**"
   ]
  },
  {
   "cell_type": "code",
   "execution_count": 62,
   "metadata": {},
   "outputs": [
    {
     "name": "stdout",
     "output_type": "stream",
     "text": [
      "0.0\n"
     ]
    }
   ],
   "source": [
    "# Write your code below\n",
    "\n",
    "a=a%5\n",
    "print(a)\n",
    "# Code ends here"
   ]
  },
  {
   "cell_type": "markdown",
   "metadata": {},
   "source": [
    "**Given that avalue is assigned to 5 below**"
   ]
  },
  {
   "cell_type": "code",
   "execution_count": 67,
   "metadata": {},
   "outputs": [],
   "source": [
    "a = 5"
   ]
  },
  {
   "cell_type": "markdown",
   "metadata": {},
   "source": [
    "Q27 Raise 'a' by 2 and assign the result to 'a' (Hint: use '**=')\n",
    "<br> **Print a**"
   ]
  },
  {
   "cell_type": "code",
   "execution_count": 68,
   "metadata": {},
   "outputs": [
    {
     "name": "stdout",
     "output_type": "stream",
     "text": [
      "5\n",
      "25\n"
     ]
    }
   ],
   "source": [
    "# Write your code below\n",
    "print(a)\n",
    "a=a**2\n",
    "print(a)\n",
    "# Code ends here"
   ]
  },
  {
   "cell_type": "markdown",
   "metadata": {},
   "source": [
    "**Q28 Use floor division to divide 'a' by 2 and assign the result to 'a' (Hint: use '//=')**"
   ]
  },
  {
   "cell_type": "code",
   "execution_count": 81,
   "metadata": {},
   "outputs": [
    {
     "name": "stdout",
     "output_type": "stream",
     "text": [
      "26\n",
      "13\n"
     ]
    }
   ],
   "source": [
    "# Write your code below\n",
    "import math\n",
    "print(a)\n",
    "a=a//2\n",
    "print(a)\n",
    "\n",
    "\n",
    "# Code ends here"
   ]
  },
  {
   "cell_type": "markdown",
   "metadata": {},
   "source": [
    "Note that a was 25 before floor division and it later became 12.<br>\n",
    "Actually, 25/2 is 12.5 but floor division eliminates decimal part and returns the quotient only."
   ]
  },
  {
   "cell_type": "markdown",
   "metadata": {},
   "source": [
    "**Please challenge yourself with the last bonus question if you feel confident with assignment operators**"
   ]
  },
  {
   "cell_type": "markdown",
   "metadata": {},
   "source": [
    "# Logical Operators"
   ]
  },
  {
   "cell_type": "markdown",
   "metadata": {},
   "source": [
    "<tbody><tr>\n",
    "<th style=\"text-align:center;width:20%\">Operator</th>\n",
    "<th style=\"text-align:center;width:45%\">Description</th>\n",
    "<th style=\"text-align:center;\">Example</th>\n",
    "</tr>\n",
    "<tr>\n",
    "<td style=\"text-align:center;\">and Logical AND</td>\n",
    "<td class=\"ts\" style=\"text-align:center;\">If both the operands are true then condition becomes true.</td>\n",
    "<td class=\"ts\" style=\"text-align:center;\">(a and b) is true.</td>\n",
    "</tr>\n",
    "<tr>\n",
    "<td style=\"text-align:center;\">or Logical OR</td>\n",
    "<td class=\"ts\" style=\"text-align:center;\">If any of the two operands are non-zero then condition becomes true.</td>\n",
    "<td class=\"ts\" style=\"text-align:center;\">(a or b) is true.</td>\n",
    "</tr>\n",
    "<tr>\n",
    "<td style=\"text-align:center;\">not Logical NOT</td>\n",
    "<td class=\"ts\" style=\"text-align:center;\">Used to reverse the logical state of its operand.</td>\n",
    "<td class=\"ts\" style=\"text-align:center;\">Not(a and b) is false.</td>\n",
    "</tr>\n",
    "</tbody>"
   ]
  },
  {
   "cell_type": "markdown",
   "metadata": {},
   "source": [
    "Given that"
   ]
  },
  {
   "cell_type": "code",
   "execution_count": 71,
   "metadata": {},
   "outputs": [],
   "source": [
    "a = 5\n",
    "b = 25"
   ]
  },
  {
   "cell_type": "markdown",
   "metadata": {},
   "source": [
    "**Q29 Try 'and' operator for finding whether a and b both are divisible by 5. (Hint use '%') **\n",
    "\n",
    "<br> TIP: \n",
    "<br> First write the code to check a is divisible by 5 \n",
    "<br> (a % 5) == 0\n",
    "<br> Now write the code to check b is divisible by 5\n",
    "<br> (b % 5) == 0\n",
    "<br> Now connect the two conditions by AND operator\n",
    "<br> You will have to use brackets to make this into a single statement\n",
    "<br> e.g. (a % 5) == 0 and (b % 5) == 0\n",
    "<br> and now when you print the result, you need to add additional braces\n",
    "\n",
    "<br>**Remember**\n",
    "<br>\"AND\" operator will return True only when all the conditions are True "
   ]
  },
  {
   "cell_type": "code",
   "execution_count": 72,
   "metadata": {},
   "outputs": [
    {
     "name": "stdout",
     "output_type": "stream",
     "text": [
      "True\n"
     ]
    }
   ],
   "source": [
    "# Write your code below\n",
    "\n",
    "print((a % 5) == 0 and (b % 5) == 0 )\n",
    "\n",
    "# Code ends here"
   ]
  },
  {
   "cell_type": "markdown",
   "metadata": {},
   "source": [
    "Given that"
   ]
  },
  {
   "cell_type": "code",
   "execution_count": 73,
   "metadata": {},
   "outputs": [],
   "source": [
    "a = 26\n",
    "b = 25"
   ]
  },
  {
   "cell_type": "markdown",
   "metadata": {},
   "source": [
    "Q30 Try 'or' operator for finding whether either a or b is divisible by 5. (Hint use '%') \n",
    "<br> TIP\n",
    "<br>Follow similar procedure that you have followed in the previous question and in the end use 'or' operator instead of 'and'.\n",
    "\n",
    "<br>**Remember**\n",
    "<br>\"OR\" operator will return False only when all the conditions are False "
   ]
  },
  {
   "cell_type": "code",
   "execution_count": 74,
   "metadata": {},
   "outputs": [
    {
     "name": "stdout",
     "output_type": "stream",
     "text": [
      "True\n"
     ]
    }
   ],
   "source": [
    "# Write your code below \n",
    "print((a % 5) == 0 or (b % 5) == 0 )\n",
    "\n",
    "# Code ends here"
   ]
  },
  {
   "cell_type": "markdown",
   "metadata": {},
   "source": [
    "Given that"
   ]
  },
  {
   "cell_type": "code",
   "execution_count": null,
   "metadata": {
    "collapsed": true
   },
   "outputs": [],
   "source": [
    "a = 26"
   ]
  },
  {
   "cell_type": "markdown",
   "metadata": {},
   "source": [
    "**Q30 Try 'not' operator to check whether a is not equal to 26. (Hint use 'not' and '==') **\n",
    "\n",
    "eg. To check whether a is not equal to 35 ->\n",
    "<br> I have to check whether a is equal to 35 and then calculate 'not' of the result.\n"
   ]
  },
  {
   "cell_type": "code",
   "execution_count": 80,
   "metadata": {},
   "outputs": [
    {
     "name": "stdout",
     "output_type": "stream",
     "text": [
      "26\n",
      "25\n",
      "False\n"
     ]
    }
   ],
   "source": [
    "# Write your code below\n",
    "print(a)\n",
    "print(b)\n",
    "print(not(a==26))\n",
    "\n",
    "# Code ends here"
   ]
  },
  {
   "cell_type": "code",
   "execution_count": 79,
   "metadata": {},
   "outputs": [
    {
     "name": "stdout",
     "output_type": "stream",
     "text": [
      "26\n",
      "False\n",
      "True\n"
     ]
    }
   ],
   "source": [
    "print(a)\n",
    "print(a==35)\n",
    "print(not(a==35))"
   ]
  },
  {
   "cell_type": "code",
   "execution_count": null,
   "metadata": {},
   "outputs": [],
   "source": []
  }
 ],
 "metadata": {
  "kernelspec": {
   "display_name": "Python 3",
   "language": "python",
   "name": "python3"
  },
  "language_info": {
   "codemirror_mode": {
    "name": "ipython",
    "version": 3
   },
   "file_extension": ".py",
   "mimetype": "text/x-python",
   "name": "python",
   "nbconvert_exporter": "python",
   "pygments_lexer": "ipython3",
   "version": "3.7.0"
  }
 },
 "nbformat": 4,
 "nbformat_minor": 2
}
